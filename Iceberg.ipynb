{
 "cells": [
  {
   "cell_type": "markdown",
   "metadata": {},
   "source": [
    "# Statoil/C-CORE Iceberg Classifier Challenge\n",
    "## Ship or iceberg, can you decide from space?"
   ]
  },
  {
   "cell_type": "markdown",
   "metadata": {},
   "source": [
    "# Abstract"
   ]
  },
  {
   "cell_type": "markdown",
   "metadata": {},
   "source": [
    "<p>Drifting icebergs present threats to navigation and activities in areas such as offshore of the East Coast of Canada.</p>\n",
    "\n",
    "<p>Currently, many institutions and companies use aerial reconnaissance and shore-based support to monitor environmental conditions and assess risks from icebergs. However, in remote areas with particularly harsh weather, these methods are not feasible, and the only viable monitoring option is via satellite.</p>\n",
    "\n",
    "<p>Statoil, an international energy company operating worldwide, has worked closely with companies like C-CORE. C-CORE have been using satellite data for over 30 years and have built a computer vision based surveillance system. To keep operations safe and efficient, Statoil is interested in getting a fresh new perspective on how to use machine learning to more accurately detect and discriminate against threatening icebergs as early as possible.</p>\n",
    "\n",
    "<p>In this competition, you’re challenged to build an algorithm that automatically identifies if a remotely sensed target is a ship or iceberg. Improvements made will help drive the costs down for maintaining safe working conditions.</p>\n",
    "\n",
    "https://www.kaggle.com/c/statoil-iceberg-classifier-challenge"
   ]
  },
  {
   "cell_type": "markdown",
   "metadata": {},
   "source": [
    "# prepare the Data"
   ]
  },
  {
   "cell_type": "code",
   "execution_count": 90,
   "metadata": {},
   "outputs": [
    {
     "name": "stdout",
     "output_type": "stream",
     "text": [
      "Using matplotlib backend: MacOSX\n",
      "Populating the interactive namespace from numpy and matplotlib\n"
     ]
    }
   ],
   "source": [
    "%pylab\n",
    "import pandas as pd\n",
    "from subprocess import check_output  # For checking the path of Test and Train folders"
   ]
  },
  {
   "cell_type": "code",
   "execution_count": 91,
   "metadata": {},
   "outputs": [
    {
     "name": "stdout",
     "output_type": "stream",
     "text": [
      "Test\n",
      "Train\n",
      "sample_submission\n",
      "\n"
     ]
    }
   ],
   "source": [
    "print(check_output([\"ls\", \"../data_iceberge/\"]).decode(\"utf8\")) # Checking the path for Test and Train folders\n",
    "train = pd.read_json(\"../data_iceberge/Train/train.json\")\n",
    "test = pd.read_json(\"../data_iceberge/Test/test.json\")"
   ]
  },
  {
   "cell_type": "code",
   "execution_count": 92,
   "metadata": {},
   "outputs": [
    {
     "name": "stdout",
     "output_type": "stream",
     "text": [
      "(1604, 5)\n"
     ]
    },
    {
     "data": {
      "text/html": [
       "<div>\n",
       "<style>\n",
       "    .dataframe thead tr:only-child th {\n",
       "        text-align: right;\n",
       "    }\n",
       "\n",
       "    .dataframe thead th {\n",
       "        text-align: left;\n",
       "    }\n",
       "\n",
       "    .dataframe tbody tr th {\n",
       "        vertical-align: top;\n",
       "    }\n",
       "</style>\n",
       "<table border=\"1\" class=\"dataframe\">\n",
       "  <thead>\n",
       "    <tr style=\"text-align: right;\">\n",
       "      <th></th>\n",
       "      <th>band_1</th>\n",
       "      <th>band_2</th>\n",
       "      <th>id</th>\n",
       "      <th>inc_angle</th>\n",
       "      <th>is_iceberg</th>\n",
       "    </tr>\n",
       "  </thead>\n",
       "  <tbody>\n",
       "    <tr>\n",
       "      <th>0</th>\n",
       "      <td>[-27.878361, -27.15416, -28.668615, -29.537971...</td>\n",
       "      <td>[-27.154118, -29.537888, -31.0306, -32.190483,...</td>\n",
       "      <td>dfd5f913</td>\n",
       "      <td>43.9239</td>\n",
       "      <td>0</td>\n",
       "    </tr>\n",
       "    <tr>\n",
       "      <th>1</th>\n",
       "      <td>[-12.242375, -14.920305, -14.920363, -12.66633...</td>\n",
       "      <td>[-31.506321, -27.984554, -26.645678, -23.76760...</td>\n",
       "      <td>e25388fd</td>\n",
       "      <td>38.1562</td>\n",
       "      <td>0</td>\n",
       "    </tr>\n",
       "    <tr>\n",
       "      <th>2</th>\n",
       "      <td>[-24.603676, -24.603714, -24.871029, -23.15277...</td>\n",
       "      <td>[-24.870956, -24.092632, -20.653963, -19.41104...</td>\n",
       "      <td>58b2aaa0</td>\n",
       "      <td>45.2859</td>\n",
       "      <td>1</td>\n",
       "    </tr>\n",
       "    <tr>\n",
       "      <th>3</th>\n",
       "      <td>[-22.454607, -23.082819, -23.998013, -23.99805...</td>\n",
       "      <td>[-27.889421, -27.519794, -27.165262, -29.10350...</td>\n",
       "      <td>4cfc3a18</td>\n",
       "      <td>43.8306</td>\n",
       "      <td>0</td>\n",
       "    </tr>\n",
       "    <tr>\n",
       "      <th>4</th>\n",
       "      <td>[-26.006956, -23.164886, -23.164886, -26.89116...</td>\n",
       "      <td>[-27.206915, -30.259186, -30.259186, -23.16495...</td>\n",
       "      <td>271f93f4</td>\n",
       "      <td>35.6256</td>\n",
       "      <td>0</td>\n",
       "    </tr>\n",
       "    <tr>\n",
       "      <th>5</th>\n",
       "      <td>[-20.769371, -20.769434, -25.906025, -25.90602...</td>\n",
       "      <td>[-29.288746, -29.712593, -28.884804, -28.88480...</td>\n",
       "      <td>b51d18b5</td>\n",
       "      <td>36.9034</td>\n",
       "      <td>1</td>\n",
       "    </tr>\n",
       "    <tr>\n",
       "      <th>6</th>\n",
       "      <td>[-26.673811, -23.666162, -27.622442, -28.31768...</td>\n",
       "      <td>[-24.557735, -26.97868, -27.622442, -29.073456...</td>\n",
       "      <td>31da1a04</td>\n",
       "      <td>34.4751</td>\n",
       "      <td>1</td>\n",
       "    </tr>\n",
       "    <tr>\n",
       "      <th>7</th>\n",
       "      <td>[-24.989119, -27.755224, -25.817074, -24.98927...</td>\n",
       "      <td>[-27.755173, -26.732174, -28.124943, -31.83772...</td>\n",
       "      <td>56929c16</td>\n",
       "      <td>41.1769</td>\n",
       "      <td>0</td>\n",
       "    </tr>\n",
       "    <tr>\n",
       "      <th>8</th>\n",
       "      <td>[-17.146641, -17.146572, -17.994583, -19.44553...</td>\n",
       "      <td>[-25.733608, -24.472507, -24.710424, -22.77215...</td>\n",
       "      <td>525ab75c</td>\n",
       "      <td>35.7829</td>\n",
       "      <td>0</td>\n",
       "    </tr>\n",
       "    <tr>\n",
       "      <th>9</th>\n",
       "      <td>[-24.020853, -23.551275, -27.18819, -29.126434...</td>\n",
       "      <td>[-28.702518, -33.563324, -29.571918, -29.12643...</td>\n",
       "      <td>192f56eb</td>\n",
       "      <td>43.3007</td>\n",
       "      <td>0</td>\n",
       "    </tr>\n",
       "  </tbody>\n",
       "</table>\n",
       "</div>"
      ],
      "text/plain": [
       "                                              band_1  \\\n",
       "0  [-27.878361, -27.15416, -28.668615, -29.537971...   \n",
       "1  [-12.242375, -14.920305, -14.920363, -12.66633...   \n",
       "2  [-24.603676, -24.603714, -24.871029, -23.15277...   \n",
       "3  [-22.454607, -23.082819, -23.998013, -23.99805...   \n",
       "4  [-26.006956, -23.164886, -23.164886, -26.89116...   \n",
       "5  [-20.769371, -20.769434, -25.906025, -25.90602...   \n",
       "6  [-26.673811, -23.666162, -27.622442, -28.31768...   \n",
       "7  [-24.989119, -27.755224, -25.817074, -24.98927...   \n",
       "8  [-17.146641, -17.146572, -17.994583, -19.44553...   \n",
       "9  [-24.020853, -23.551275, -27.18819, -29.126434...   \n",
       "\n",
       "                                              band_2        id inc_angle  \\\n",
       "0  [-27.154118, -29.537888, -31.0306, -32.190483,...  dfd5f913   43.9239   \n",
       "1  [-31.506321, -27.984554, -26.645678, -23.76760...  e25388fd   38.1562   \n",
       "2  [-24.870956, -24.092632, -20.653963, -19.41104...  58b2aaa0   45.2859   \n",
       "3  [-27.889421, -27.519794, -27.165262, -29.10350...  4cfc3a18   43.8306   \n",
       "4  [-27.206915, -30.259186, -30.259186, -23.16495...  271f93f4   35.6256   \n",
       "5  [-29.288746, -29.712593, -28.884804, -28.88480...  b51d18b5   36.9034   \n",
       "6  [-24.557735, -26.97868, -27.622442, -29.073456...  31da1a04   34.4751   \n",
       "7  [-27.755173, -26.732174, -28.124943, -31.83772...  56929c16   41.1769   \n",
       "8  [-25.733608, -24.472507, -24.710424, -22.77215...  525ab75c   35.7829   \n",
       "9  [-28.702518, -33.563324, -29.571918, -29.12643...  192f56eb   43.3007   \n",
       "\n",
       "   is_iceberg  \n",
       "0           0  \n",
       "1           0  \n",
       "2           1  \n",
       "3           0  \n",
       "4           0  \n",
       "5           1  \n",
       "6           1  \n",
       "7           0  \n",
       "8           0  \n",
       "9           0  "
      ]
     },
     "execution_count": 92,
     "metadata": {},
     "output_type": "execute_result"
    }
   ],
   "source": [
    "print(train.shape)\n",
    "train.head(10)"
   ]
  },
  {
   "cell_type": "code",
   "execution_count": 93,
   "metadata": {},
   "outputs": [
    {
     "name": "stdout",
     "output_type": "stream",
     "text": [
      "(8424, 4)\n"
     ]
    },
    {
     "data": {
      "text/html": [
       "<div>\n",
       "<style>\n",
       "    .dataframe thead tr:only-child th {\n",
       "        text-align: right;\n",
       "    }\n",
       "\n",
       "    .dataframe thead th {\n",
       "        text-align: left;\n",
       "    }\n",
       "\n",
       "    .dataframe tbody tr th {\n",
       "        vertical-align: top;\n",
       "    }\n",
       "</style>\n",
       "<table border=\"1\" class=\"dataframe\">\n",
       "  <thead>\n",
       "    <tr style=\"text-align: right;\">\n",
       "      <th></th>\n",
       "      <th>band_1</th>\n",
       "      <th>band_2</th>\n",
       "      <th>id</th>\n",
       "      <th>inc_angle</th>\n",
       "    </tr>\n",
       "  </thead>\n",
       "  <tbody>\n",
       "    <tr>\n",
       "      <th>0</th>\n",
       "      <td>[-15.863251, -15.201077, -17.887735, -19.17248...</td>\n",
       "      <td>[-21.629612, -21.142353, -23.908337, -28.34524...</td>\n",
       "      <td>5941774d</td>\n",
       "      <td>34.966400</td>\n",
       "    </tr>\n",
       "    <tr>\n",
       "      <th>1</th>\n",
       "      <td>[-26.0589694977, -26.0589694977, -26.058969497...</td>\n",
       "      <td>[-25.7542076111, -25.7542076111, -25.754207611...</td>\n",
       "      <td>4023181e</td>\n",
       "      <td>32.615072</td>\n",
       "    </tr>\n",
       "    <tr>\n",
       "      <th>2</th>\n",
       "      <td>[-14.1410999298, -15.0642414093, -17.375520706...</td>\n",
       "      <td>[-14.745639801, -14.5904102325, -14.3626976013...</td>\n",
       "      <td>b20200e4</td>\n",
       "      <td>37.505433</td>\n",
       "    </tr>\n",
       "    <tr>\n",
       "      <th>3</th>\n",
       "      <td>[-12.167478, -13.706167, -16.54837, -13.572674...</td>\n",
       "      <td>[-24.32222, -26.375538, -24.096739, -23.8769, ...</td>\n",
       "      <td>e7f018bb</td>\n",
       "      <td>34.473900</td>\n",
       "    </tr>\n",
       "    <tr>\n",
       "      <th>4</th>\n",
       "      <td>[-23.3745937347, -26.0271816254, -28.121963501...</td>\n",
       "      <td>[-25.7223434448, -27.0115776062, -23.149162292...</td>\n",
       "      <td>4371c8c3</td>\n",
       "      <td>43.918874</td>\n",
       "    </tr>\n",
       "    <tr>\n",
       "      <th>5</th>\n",
       "      <td>[-18.1353492737, -18.1353492737, -18.135349273...</td>\n",
       "      <td>[-14.6503257751, -14.6503257751, -14.650325775...</td>\n",
       "      <td>a8d9b1fd</td>\n",
       "      <td>35.933020</td>\n",
       "    </tr>\n",
       "    <tr>\n",
       "      <th>6</th>\n",
       "      <td>[-24.565174, -26.567524, -25.946882, -26.89542...</td>\n",
       "      <td>[-32.915886, -35.194798, -32.272282, -28.7505,...</td>\n",
       "      <td>29e7727e</td>\n",
       "      <td>42.414200</td>\n",
       "    </tr>\n",
       "    <tr>\n",
       "      <th>7</th>\n",
       "      <td>[-20.162964, -18.16898, -17.023144, -17.023216...</td>\n",
       "      <td>[-30.905346, -28.406647, -25.381365, -28.77645...</td>\n",
       "      <td>92a51ffb</td>\n",
       "      <td>33.638300</td>\n",
       "    </tr>\n",
       "    <tr>\n",
       "      <th>8</th>\n",
       "      <td>[-21.920645, -21.737827, -21.383303, -21.73792...</td>\n",
       "      <td>[-25.53537, -28.514198, -27.75848, -31.280354,...</td>\n",
       "      <td>c769ac97</td>\n",
       "      <td>41.107600</td>\n",
       "    </tr>\n",
       "    <tr>\n",
       "      <th>9</th>\n",
       "      <td>[-14.811565, -16.318594, -17.082613, -16.41037...</td>\n",
       "      <td>[-22.617977, -21.065811, -27.914198, -25.24334...</td>\n",
       "      <td>aee0547d</td>\n",
       "      <td>34.966400</td>\n",
       "    </tr>\n",
       "  </tbody>\n",
       "</table>\n",
       "</div>"
      ],
      "text/plain": [
       "                                              band_1  \\\n",
       "0  [-15.863251, -15.201077, -17.887735, -19.17248...   \n",
       "1  [-26.0589694977, -26.0589694977, -26.058969497...   \n",
       "2  [-14.1410999298, -15.0642414093, -17.375520706...   \n",
       "3  [-12.167478, -13.706167, -16.54837, -13.572674...   \n",
       "4  [-23.3745937347, -26.0271816254, -28.121963501...   \n",
       "5  [-18.1353492737, -18.1353492737, -18.135349273...   \n",
       "6  [-24.565174, -26.567524, -25.946882, -26.89542...   \n",
       "7  [-20.162964, -18.16898, -17.023144, -17.023216...   \n",
       "8  [-21.920645, -21.737827, -21.383303, -21.73792...   \n",
       "9  [-14.811565, -16.318594, -17.082613, -16.41037...   \n",
       "\n",
       "                                              band_2        id  inc_angle  \n",
       "0  [-21.629612, -21.142353, -23.908337, -28.34524...  5941774d  34.966400  \n",
       "1  [-25.7542076111, -25.7542076111, -25.754207611...  4023181e  32.615072  \n",
       "2  [-14.745639801, -14.5904102325, -14.3626976013...  b20200e4  37.505433  \n",
       "3  [-24.32222, -26.375538, -24.096739, -23.8769, ...  e7f018bb  34.473900  \n",
       "4  [-25.7223434448, -27.0115776062, -23.149162292...  4371c8c3  43.918874  \n",
       "5  [-14.6503257751, -14.6503257751, -14.650325775...  a8d9b1fd  35.933020  \n",
       "6  [-32.915886, -35.194798, -32.272282, -28.7505,...  29e7727e  42.414200  \n",
       "7  [-30.905346, -28.406647, -25.381365, -28.77645...  92a51ffb  33.638300  \n",
       "8  [-25.53537, -28.514198, -27.75848, -31.280354,...  c769ac97  41.107600  \n",
       "9  [-22.617977, -21.065811, -27.914198, -25.24334...  aee0547d  34.966400  "
      ]
     },
     "execution_count": 93,
     "metadata": {},
     "output_type": "execute_result"
    }
   ],
   "source": [
    "print(test.shape)\n",
    "test.head(10)"
   ]
  },
  {
   "cell_type": "code",
   "execution_count": 113,
   "metadata": {},
   "outputs": [
    {
     "name": "stdout",
     "output_type": "stream",
     "text": [
      "**inc_angle in train data:**\n",
      "na         133\n",
      "34.4721     23\n",
      "42.5591     16\n",
      "36.1061     15\n",
      "33.6352     15\n",
      "Name: inc_angle, dtype: int64\n",
      "\n",
      "**inc_angle in test data:**\n",
      "34.4721    36\n",
      "42.5591    34\n",
      "39.9784    33\n",
      "33.6352    31\n",
      "33.6350    28\n",
      "Name: inc_angle, dtype: int64\n"
     ]
    }
   ],
   "source": [
    "print('**inc_angle in train data:**')\n",
    "print(train.inc_angle.value_counts().head(5))\n",
    "print('\\n**inc_angle in test data:**')\n",
    "print(test.inc_angle.value_counts().head(5))\n",
    "#train[train.inc_angle == 'na'] = 10000"
   ]
  },
  {
   "cell_type": "code",
   "execution_count": 56,
   "metadata": {},
   "outputs": [
    {
     "data": {
      "text/plain": [
       "1604"
      ]
     },
     "execution_count": 56,
     "metadata": {},
     "output_type": "execute_result"
    }
   ],
   "source": [
    "print\n",
    "train.inc_angle.count()\n",
    "#for i in range(len(train.inc_angle)):\n",
    "#    if (type(train.inc_angle[i]) != float):\n",
    "#        print (i, train.inc_angle[i])"
   ]
  },
  {
   "cell_type": "code",
   "execution_count": null,
   "metadata": {
    "collapsed": true
   },
   "outputs": [],
   "source": []
  }
 ],
 "metadata": {
  "kernelspec": {
   "display_name": "Python 2",
   "language": "python",
   "name": "python2"
  },
  "language_info": {
   "codemirror_mode": {
    "name": "ipython",
    "version": 2
   },
   "file_extension": ".py",
   "mimetype": "text/x-python",
   "name": "python",
   "nbconvert_exporter": "python",
   "pygments_lexer": "ipython2",
   "version": "2.7.13"
  }
 },
 "nbformat": 4,
 "nbformat_minor": 2
}
